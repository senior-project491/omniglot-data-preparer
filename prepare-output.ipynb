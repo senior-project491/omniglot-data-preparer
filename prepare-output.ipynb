{
 "cells": [
  {
   "cell_type": "code",
   "execution_count": 1,
   "metadata": {},
   "outputs": [],
   "source": [
    "from PIL import Image, ImageOps\n",
    "import os"
   ]
  },
  {
   "cell_type": "code",
   "execution_count": 2,
   "metadata": {},
   "outputs": [],
   "source": [
    "# where corresponding fonts images of Anglo-Saxon_Futhorc stored\n",
    "DIGITAL_INPUT_DIR = './input/digital/'\n",
    "# where actual omniglot dataset resides\n",
    "HANDWR_INPUT_DIR = './input/handwriting/'\n",
    "OUTPUT_DIR = './output/'\n",
    "IMAGE_WIDTH = 105\n",
    "IMAGE_HEIGHT = 105\n"
   ]
  },
  {
   "cell_type": "code",
   "execution_count": 3,
   "metadata": {},
   "outputs": [],
   "source": [
    "# List of digital font images - ignores hidden files\n",
    "digital_chars = [f for f in os.listdir(DIGITAL_INPUT_DIR) if not f.startswith('.')]\n",
    "# List of directories which stores an alphabet of actual omniglot dataset.\n",
    "handwr_char_dirs = sorted([f for f in os.listdir(HANDWR_INPUT_DIR) if not f.startswith('.')])\n"
   ]
  },
  {
   "cell_type": "code",
   "execution_count": 4,
   "metadata": {},
   "outputs": [],
   "source": [
    "# loop over chars in an alphabet\n",
    "for i in range(len(digital_chars)):\n",
    "\n",
    "    same_char_dir = os.path.join(HANDWR_INPUT_DIR, handwr_char_dirs[i])\n",
    "    # list of handwriting images of a specific character -relative path\n",
    "    same_handwr_chars = os.listdir(same_char_dir)\n",
    "    # Digital font image of given char goes to right on new image\n",
    "    im_right = Image.open(os.path.join(DIGITAL_INPUT_DIR, str(i+1)+'.png'))\n",
    "    # create output in the same format as input omniglot folders\n",
    "    if not os.path.exists(os.path.join(OUTPUT_DIR, handwr_char_dirs[i])):\n",
    "        os.makedirs(os.path.join(OUTPUT_DIR, handwr_char_dirs[i]))\n",
    "    # loop over different handwriting of same char\n",
    "    for k in same_handwr_chars:\n",
    "        # handwritten image goes to left in new image\n",
    "        im_left = Image.open(os.path.join(same_char_dir, k))\n",
    "        new_im = Image.new('RGB', (IMAGE_WIDTH * 2, IMAGE_HEIGHT))\n",
    "        new_im.paste(im_left)\n",
    "        # Paste second image to right side\n",
    "        new_im.paste(im_right, (IMAGE_WIDTH, 0))\n",
    "        # Invert color since it will be very likely to be used with MNIST in this project\n",
    "        new_im = ImageOps.invert(new_im)\n",
    "        new_im.save(os.path.join(OUTPUT_DIR, handwr_char_dirs[i], 'digital_' + k))\n"
   ]
  },
  {
   "cell_type": "code",
   "execution_count": null,
   "metadata": {},
   "outputs": [],
   "source": []
  }
 ],
 "metadata": {
  "kernelspec": {
   "display_name": "Python3 AI env.",
   "language": "python",
   "name": "ai"
  },
  "language_info": {
   "codemirror_mode": {
    "name": "ipython",
    "version": 3
   },
   "file_extension": ".py",
   "mimetype": "text/x-python",
   "name": "python",
   "nbconvert_exporter": "python",
   "pygments_lexer": "ipython3",
   "version": "3.6.4"
  }
 },
 "nbformat": 4,
 "nbformat_minor": 2
}
